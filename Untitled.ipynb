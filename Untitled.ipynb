{
 "cells": [
  {
   "cell_type": "code",
   "execution_count": 4,
   "id": "historic-engineering",
   "metadata": {},
   "outputs": [],
   "source": [
    "import csv\n",
    "\n",
    "si_list = []\n",
    "with open('dictionary.csv') as f:\n",
    "    reader = csv.reader(f)\n",
    "    for row in reader:\n",
    "        if row[0][0] == \"し\":\n",
    "            si_list.append(row[1][0])\n",
    "            "
   ]
  },
  {
   "cell_type": "code",
   "execution_count": 8,
   "id": "ultimate-jacket",
   "metadata": {},
   "outputs": [
    {
     "data": {
      "text/plain": [
       "7641"
      ]
     },
     "execution_count": 8,
     "metadata": {},
     "output_type": "execute_result"
    }
   ],
   "source": [
    "len(si_list)"
   ]
  },
  {
   "cell_type": "code",
   "execution_count": 13,
   "id": "linear-research",
   "metadata": {},
   "outputs": [],
   "source": [
    "si_list = list(set(si_list))"
   ]
  },
  {
   "cell_type": "code",
   "execution_count": 15,
   "id": "facial-hollow",
   "metadata": {},
   "outputs": [
    {
     "name": "stdout",
     "output_type": "stream",
     "text": [
      "ピッピ児ピッピ県ピッピ布ピッピピッピ\n"
     ]
    }
   ],
   "source": [
    "text = \"鹿児島県志布志市\"\n",
    "\n",
    "res = \"\"\n",
    "for item in list(text):\n",
    "    if item in si_list:\n",
    "        res +=\"ピッピ\"\n",
    "    else:\n",
    "        res += item\n",
    "\n",
    "print(res)"
   ]
  },
  {
   "cell_type": "code",
   "execution_count": null,
   "id": "skilled-colors",
   "metadata": {},
   "outputs": [],
   "source": [
    "\n",
    "\n"
   ]
  }
 ],
 "metadata": {
  "kernelspec": {
   "display_name": "Python 3",
   "language": "python",
   "name": "python3"
  },
  "language_info": {
   "codemirror_mode": {
    "name": "ipython",
    "version": 3
   },
   "file_extension": ".py",
   "mimetype": "text/x-python",
   "name": "python",
   "nbconvert_exporter": "python",
   "pygments_lexer": "ipython3",
   "version": "3.7.9"
  }
 },
 "nbformat": 4,
 "nbformat_minor": 5
}
